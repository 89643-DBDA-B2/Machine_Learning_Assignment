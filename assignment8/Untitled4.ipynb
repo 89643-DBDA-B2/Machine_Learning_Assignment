{
 "cells": [
  {
   "cell_type": "code",
   "execution_count": 1,
   "id": "73c7224a-ac01-4b7b-a153-e1d26b0224db",
   "metadata": {},
   "outputs": [],
   "source": [
    "import numpy as np\n",
    "import pandas as pd\n",
    "import matplotlib.pyplot as plt\n",
    "import seaborn as sns"
   ]
  },
  {
   "cell_type": "code",
   "execution_count": 2,
   "id": "1a72c3cd-bab3-436c-b17e-977bff92a1a8",
   "metadata": {},
   "outputs": [],
   "source": [
    "df = pd.read_csv('D:/DBDA_Official10/Machine_Learning/main/Assignment/Datasets/Wine.csv')"
   ]
  },
  {
   "cell_type": "code",
   "execution_count": 3,
   "id": "82c68171-ead4-46bf-8726-0fc933899f49",
   "metadata": {},
   "outputs": [
    {
     "data": {
      "text/plain": [
       "<Axes: ylabel='Malic_Acid'>"
      ]
     },
     "execution_count": 3,
     "metadata": {},
     "output_type": "execute_result"
    },
    {
     "data": {
      "image/png": "[encoded data removed]",
      "text/plain": [
       "<Figure size 640x480 with 1 Axes>"
      ]
     },
     "metadata": {},
     "output_type": "display_data"
    }
   ],
   "source": [
    "sns.boxplot(df['Malic_Acid'])"
   ]
  },
  {
   "cell_type": "code",
   "execution_count": 4,
   "id": "ad3384f6-5cce-4988-ad34-13d8be45a48b",
   "metadata": {},
   "outputs": [],
   "source": [
    "Q1 = df['Malic_Acid'].quantile(0.25)\n",
    "Q3 = df['Malic_Acid'].quantile(0.75)\n",
    "\n",
    "IQR = Q3 - Q1\n",
    "\n",
    "lower_bound = Q1 - 1.5*IQR\n",
    "upper_bound = Q3 + 1.5*IQR"
   ]
  },
  {
   "cell_type": "code",
   "execution_count": 5,
   "id": "8e295236-acc2-4c1e-b05c-bfe45088c496",
   "metadata": {},
   "outputs": [
    {
     "data": {
      "text/plain": [
       "[5.8, 5.51, 5.65]"
      ]
     },
     "execution_count": 5,
     "metadata": {},
     "output_type": "execute_result"
    }
   ],
   "source": [
    "xyz = list(df['Malic_Acid'][df['Malic_Acid'] > upper_bound])\n",
    "xyz"
   ]
  },
  {
   "cell_type": "code",
   "execution_count": 6,
   "id": "f81e8746-eaf2-41e8-9ab2-a2de25661e4a",
   "metadata": {},
   "outputs": [
    {
     "data": {
      "text/plain": [
       "np.float64(2.3363483146067416)"
      ]
     },
     "execution_count": 6,
     "metadata": {},
     "output_type": "execute_result"
    }
   ],
   "source": [
    "mean=df['Malic_Acid'].mean()\n",
    "mean"
   ]
  },
  {
   "cell_type": "code",
   "execution_count": 7,
   "id": "c669f196-8e98-485c-88dd-8d6d985eb398",
   "metadata": {},
   "outputs": [],
   "source": [
    "df['Malic_Acid'] = df['Malic_Acid'].replace(to_replace= xyz, value = mean)"
   ]
  },
  {
   "cell_type": "code",
   "execution_count": 9,
   "id": "0f1ae147-36a7-4539-a065-aff9e2966ec6",
   "metadata": {},
   "outputs": [
    {
     "data": {
      "text/plain": [
       "<Axes: ylabel='Malic_Acid'>"
      ]
     },
     "execution_count": 9,
     "metadata": {},
     "output_type": "execute_result"
    },
    {
     "data": {
      "image/png": "[encoded data removed]",
      "text/plain": [
       "<Figure size 640x480 with 1 Axes>"
      ]
     },
     "metadata": {},
     "output_type": "display_data"
    }
   ],
   "source": [
    "sns.boxplot(df['Malic_Acid'])"
   ]
  },
  {
   "cell_type": "code",
   "execution_count": 10,
   "id": "fa2c27e8-1f04-4bf5-ac2e-fb128b3fb1e5",
   "metadata": {},
   "outputs": [
    {
     "data": {
      "text/plain": [
       "[]"
      ]
     },
     "execution_count": 10,
     "metadata": {},
     "output_type": "execute_result"
    }
   ],
   "source": [
    "abc = list(df['Malic_Acid'][df['Malic_Acid'] > upper_bound])\n",
    "abc"
   ]
  },
  {
   "cell_type": "code",
   "execution_count": 11,
   "id": "c03a6469-2e44-4e06-9c19-6fb576631c19",
   "metadata": {},
   "outputs": [
    {
     "name": "stdout",
     "output_type": "stream",
     "text": [
      "<class 'pandas.core.frame.DataFrame'>\n",
      "RangeIndex: 178 entries, 0 to 177\n",
      "Data columns (total 14 columns):\n",
      " #   Column                Non-Null Count  Dtype  \n",
      "---  ------                --------------  -----  \n",
      " 0   Alcohol               178 non-null    float64\n",
      " 1   Malic_Acid            178 non-null    float64\n",
      " 2   Ash                   178 non-null    float64\n",
      " 3   Ash_Alcanity          178 non-null    float64\n",
      " 4   Magnesium             178 non-null    int64  \n",
      " 5   Total_Phenols         178 non-null    float64\n",
      " 6   Flavanoids            178 non-null    float64\n",
      " 7   Nonflavanoid_Phenols  178 non-null    float64\n",
      " 8   Proanthocyanins       178 non-null    float64\n",
      " 9   Color_Intensity       178 non-null    float64\n",
      " 10  Hue                   178 non-null    float64\n",
      " 11  OD280                 178 non-null    float64\n",
      " 12  Proline               178 non-null    int64  \n",
      " 13  Customer_Segment      178 non-null    int64  \n",
      "dtypes: float64(11), int64(3)\n",
      "memory usage: 19.6 KB\n"
     ]
    }
   ],
   "source": [
    "df.info()"
   ]
  },
  {
   "cell_type": "code",
   "execution_count": null,
   "id": "00604aa8-9322-4c93-9cd0-25a471121d63",
   "metadata": {},
   "outputs": [],
   "source": []
  }
 ],
 "metadata": {
  "kernelspec": {
   "display_name": "Python 3 (ipykernel)",
   "language": "python",
   "name": "python3"
  },
  "language_info": {
   "codemirror_mode": {
    "name": "ipython",
    "version": 3
   },
   "file_extension": ".py",
   "mimetype": "text/x-python",
   "name": "python",
   "nbconvert_exporter": "python",
   "pygments_lexer": "ipython3",
   "version": "3.13.2"
  }
 },
 "nbformat": 4,
 "nbformat_minor": 5
}
